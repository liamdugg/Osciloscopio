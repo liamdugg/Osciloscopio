{
 "cells": [
  {
   "cell_type": "markdown",
   "id": "ec7edf08",
   "metadata": {},
   "source": [
    "<img src=\"logo-utn-frba-electronica-green.png\" style=\"float: right;\" width=\"200\" height=\"40\" alt=\"InternetCtrl\">\n",
    "<p style=\" font-family: Courier New,Courier,Lucida Sans Typewriter,Lucida Typewriter,monospace; text-align: left;\"><font color='black'>TÉCNICAS DIGITALES II<br>Curso R4001<br>Grupo 4</font></p>"
   ]
  },
  {
   "cell_type": "markdown",
   "id": "59703a34",
   "metadata": {},
   "source": [
    "<p style=\"border: ridge black 2px;  padding: 25px; text-align: center;font-weight: italic; font-size:50px; background-size: 100% 100%; background-color:#0EEA0B\">\n",
    "   Proyecto TDII\n",
    "</p>"
   ]
  },
  {
   "cell_type": "markdown",
   "id": "6fda3f05",
   "metadata": {},
   "source": [
    "<p style=\"text-align: center; font-weight: italic; font-size:25px;\">Osciloscopia Digital (DSO)</p>\n",
    "<hr style=\"border: ridge #0EEA0B 1px;\">"
   ]
  },
  {
   "cell_type": "markdown",
   "id": "22fb60c1",
   "metadata": {},
   "source": [
    "<table style=\"border-collapse:collapse;border-spacing:0;\n",
    "              border-color:black;border-style:solid;border-width:1px;\n",
    "              font-family:Arial,sans-serif;font-size:14px; \n",
    "              overflow:hidden;padding:10px 5px;word-break:normal;\n",
    "              border-color:black;border-style:solid;border-width:1px;\n",
    "              font-family:Arial, sans-serif;font-size:14px;\n",
    "              font-weight:normal;overflow:hidden;padding:10px 5px;word-break:normal;\n",
    "              border-color:inherit;text-align:left;vertical-align:top\">\n",
    "<thead>\n",
    "  <tr>\n",
    "    <th style=\"border-color:black;border-style:solid;border-width:1px;\n",
    "              ont-family:Arial, sans-serif;font-size:14px;\n",
    "              font-weight:normal;overflow:hidden;padding:10px 5px;word-break:normal;\"> </th>\n",
    "    <th style=\"border-color:black;border-style:solid;border-width:1px;\n",
    "              font-family:Arial, sans-serif;font-size:14px;\n",
    "              font-weight:normal;overflow:hidden;padding:10px 5px;word-break:normal;\n",
    "              border-color:inherit;text-align:left;vertical-align:top\"> <strong>   INTEGRANTES    </strong></th>\n",
    "  </tr>\n",
    "</thead>\n",
    "<tbody>\n",
    "  <tr>\n",
    "    <td style=\"border-color:black;border-style:solid;border-width:1px;\n",
    "               font-family:Arial, sans-serif;font-size:14px;\n",
    "               overflow:hidden;padding:10px 5px;word-break:normal;\n",
    "               border-color:inherit;text-align:left;vertical-align:top\">1</td>\n",
    "    <td style=\"border-color:black;border-style:solid;border-width:1px;\n",
    "               font-family:Arial, sans-serif;font-size:14px;\n",
    "               overflow:hidden;padding:10px 5px;word-break:normal;\n",
    "               border-color:inherit;text-align:left;vertical-align:top\">    Nahuel Brian Contreras    </td>\n",
    "  </tr>\n",
    "  <tr>\n",
    "    <td style=\"border-color:black;border-style:solid;border-width:1px;\n",
    "               font-family:Arial, sans-serif;font-size:14px;\n",
    "               overflow:hidden;padding:10px 5px;word-break:normal;\n",
    "               border-color:inherit;text-align:left;vertical-align:top\">2</td>\n",
    "    <td style=\"border-color:black;border-style:solid;border-width:1px;\n",
    "               font-family:Arial, sans-serif;font-size:14px;\n",
    "               overflow:hidden;padding:10px 5px;word-break:normal;\n",
    "               border-color:inherit;text-align:left;vertical-align:top\">   Liam Duggan   </td>\n",
    "  </tr>\n",
    "  <tr>\n",
    "    <td style=\"border-color:black;border-style:solid;border-width:1px;\n",
    "               font-family:Arial, sans-serif;font-size:14px;\n",
    "               overflow:hidden;padding:10px 5px;word-break:normal;\n",
    "               border-color:inherit;text-align:left;vertical-align:top\">3</td>\n",
    "    <td style=\"border-color:black;border-style:solid;border-width:1px;\n",
    "               font-family:Arial, sans-serif;font-size:14px;\n",
    "               overflow:hidden;padding:10px 5px;word-break:normal;\n",
    "               border-color:inherit;text-align:left;vertical-align:top\">    David ochoa Cruz   </td>\n",
    "  </tr>  \n",
    "  <tr>\n",
    "\n",
    "</tbody>\n",
    "</table>"
   ]
  },
  {
   "cell_type": "code",
   "execution_count": null,
   "id": "bb13c0ab",
   "metadata": {},
   "outputs": [],
   "source": []
  }
 ],
 "metadata": {
  "kernelspec": {
   "display_name": "Python 3 (ipykernel)",
   "language": "python",
   "name": "python3"
  },
  "language_info": {
   "codemirror_mode": {
    "name": "ipython",
    "version": 3
   },
   "file_extension": ".py",
   "mimetype": "text/x-python",
   "name": "python",
   "nbconvert_exporter": "python",
   "pygments_lexer": "ipython3",
   "version": "3.9.7"
  }
 },
 "nbformat": 4,
 "nbformat_minor": 5
}
