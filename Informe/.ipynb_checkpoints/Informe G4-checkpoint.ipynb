{
 "cells": [
  {
   "cell_type": "markdown",
   "id": "cda90b18",
   "metadata": {},
   "source": [
    "<img src=\"logo.png\" style=\"float: right;\" width=\"200\">\n",
    "<p style=\" font-family: Courier New,Courier,Lucida Sans Typewriter,Lucida Typewriter,monospace; text-align: left;\"><font color='black'>TÉCNICAS DIGITALES II<br>Curso R4001<br>Grupo 4</font></p>"
   ]
  },
  {
   "cell_type": "code",
   "execution_count": null,
   "id": "e1d980ee",
   "metadata": {},
   "outputs": [],
   "source": []
  }
 ],
 "metadata": {
  "kernelspec": {
   "display_name": "Python 3 (ipykernel)",
   "language": "python",
   "name": "python3"
  },
  "language_info": {
   "codemirror_mode": {
    "name": "ipython",
    "version": 3
   },
   "file_extension": ".py",
   "mimetype": "text/x-python",
   "name": "python",
   "nbconvert_exporter": "python",
   "pygments_lexer": "ipython3",
   "version": "3.9.7"
  }
 },
 "nbformat": 4,
 "nbformat_minor": 5
}
